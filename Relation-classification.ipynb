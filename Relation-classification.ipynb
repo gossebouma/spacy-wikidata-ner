{
 "cells": [
  {
   "cell_type": "markdown",
   "metadata": {},
   "source": [
    "## Relation Classification\n",
    "\n",
    "This example uses few-shot classification to avoid the hassle that training a text classifier inside spacy is....\n",
    "\n",
    "See https://github.com/Pandora-Intelligence/classy-classification for details, esp other pre-trained models that could work as well\n"
   ]
  },
  {
   "cell_type": "code",
   "execution_count": 23,
   "metadata": {},
   "outputs": [],
   "source": [
    "import spacy\n",
    "\n",
    "from spacy.language import Language\n",
    "\n",
    "@Language.component(\"custom_sentencizer\")\n",
    "def custom_sentencizer(doc):\n",
    "    for i, token in enumerate(doc):\n",
    "        if i == 0:\n",
    "            doc[i].is_sent_start = True\n",
    "        else:\n",
    "            # Explicitly set sentence start to False otherwise, to tell\n",
    "            # the parser to leave those tokens alone\n",
    "            doc[i].is_sent_start = False\n",
    "    return doc\n",
    "\n",
    "import classy_classification\n"
   ]
  },
  {
   "cell_type": "markdown",
   "metadata": {},
   "source": [
    "## training data\n",
    "\n",
    "Training data is a dictionary where the key is the class label and the value is a list containing all the examples for this class. In the example below, we read the training data from a tab separated file with one class label and sentence per line\n"
   ]
  },
  {
   "cell_type": "code",
   "execution_count": 17,
   "metadata": {},
   "outputs": [
    {
     "name": "stdout",
     "output_type": "stream",
     "text": [
      "award\t24\n",
      "birthdate\t28\n",
      "birthplace\t10\n",
      "composer\t21\n",
      "director\t88\n",
      "released\t44\n",
      "other\t100\n"
     ]
    }
   ],
   "source": [
    "# the format of the training data \n",
    "# data = {'director' : [  'Who directed Tenet?', \n",
    "#                      'Who directed Bad Times at the El Royale?', \n",
    "#                      'Inception was directed by whom?' ],\n",
    "#'deathdate' : ['When did John Hamilton die?', \n",
    "#               'In which year did Alan Rickman die?']\n",
    "#                      }\n",
    "   \n",
    "import csv        \n",
    "from collections import defaultdict\n",
    "\n",
    "trainingdata = defaultdict(list)\n",
    "\n",
    "with open('labeled.csv') as file :\n",
    "    csvFile = csv.reader(file,delimiter='\\t')\n",
    "    for label,sentence in csvFile :\n",
    "        trainingdata[label].append(sentence)\n",
    "        \n",
    "for label,examples in trainingdata.items() :\n",
    "    print('{}\\t{}'.format(label,len(examples)))\n",
    "        \n",
    "#for example in trainingdata['composer'] :\n",
    "#    print (example)"
   ]
  },
  {
   "cell_type": "markdown",
   "metadata": {},
   "source": [
    "## adding the categorizer to the pipeline\n",
    "\n",
    "In Spacy, you can add modules to the annotation pipepline. Note that in this particular case, adding this module does the training as well. I.e. it does few-shot training using a pre-trained language model. The pre-trained language model is the huggingface spacy neural language model. \n",
    "\n",
    "The categorizer predicts a label for a given input sentence. The label predictions can be found in the extention attribute \\_.cats\n",
    "\n"
   ]
  },
  {
   "cell_type": "code",
   "execution_count": 24,
   "metadata": {},
   "outputs": [
    {
     "data": {
      "text/plain": [
       "<function __main__.custom_sentencizer(doc)>"
      ]
     },
     "execution_count": 24,
     "metadata": {},
     "output_type": "execute_result"
    }
   ],
   "source": [
    "nlp = spacy.load('en_core_web_lg')\n",
    "\n",
    "nlp.add_pipe(\"custom_sentencizer\", before=\"parser\")  # Insert before the parser\n"
   ]
  },
  {
   "cell_type": "code",
   "execution_count": 25,
   "metadata": {},
   "outputs": [
    {
     "name": "stdout",
     "output_type": "stream",
     "text": [
      "Fitting 2 folds for each of 6 candidates, totalling 12 fits\n"
     ]
    },
    {
     "data": {
      "text/plain": [
       "<classy_classification.classifiers.spacy_internal.classySpacyInternal at 0x7fd522048bb0>"
      ]
     },
     "execution_count": 25,
     "metadata": {},
     "output_type": "execute_result"
    }
   ],
   "source": [
    "nlp.add_pipe('text_categorizer',config = {'data': trainingdata, 'model': 'spacy'})"
   ]
  },
  {
   "cell_type": "code",
   "execution_count": 14,
   "metadata": {},
   "outputs": [
    {
     "data": {
      "text/plain": [
       "{'lang': 'en',\n",
       " 'name': 'core_web_lg',\n",
       " 'version': '3.2.0',\n",
       " 'description': 'English pipeline optimized for CPU. Components: tok2vec, tagger, parser, senter, ner, attribute_ruler, lemmatizer.',\n",
       " 'author': 'Explosion',\n",
       " 'email': 'contact@explosion.ai',\n",
       " 'url': 'https://explosion.ai',\n",
       " 'license': 'MIT',\n",
       " 'spacy_version': '>=3.2.0,<3.3.0',\n",
       " 'spacy_git_version': 'bb26550e2',\n",
       " 'vectors': {'width': 300,\n",
       "  'vectors': 684830,\n",
       "  'keys': 684830,\n",
       "  'name': 'en_vectors'},\n",
       " 'labels': {'tok2vec': [],\n",
       "  'tagger': ['$',\n",
       "   \"''\",\n",
       "   ',',\n",
       "   '-LRB-',\n",
       "   '-RRB-',\n",
       "   '.',\n",
       "   ':',\n",
       "   'ADD',\n",
       "   'AFX',\n",
       "   'CC',\n",
       "   'CD',\n",
       "   'DT',\n",
       "   'EX',\n",
       "   'FW',\n",
       "   'HYPH',\n",
       "   'IN',\n",
       "   'JJ',\n",
       "   'JJR',\n",
       "   'JJS',\n",
       "   'LS',\n",
       "   'MD',\n",
       "   'NFP',\n",
       "   'NN',\n",
       "   'NNP',\n",
       "   'NNPS',\n",
       "   'NNS',\n",
       "   'PDT',\n",
       "   'POS',\n",
       "   'PRP',\n",
       "   'PRP$',\n",
       "   'RB',\n",
       "   'RBR',\n",
       "   'RBS',\n",
       "   'RP',\n",
       "   'SYM',\n",
       "   'TO',\n",
       "   'UH',\n",
       "   'VB',\n",
       "   'VBD',\n",
       "   'VBG',\n",
       "   'VBN',\n",
       "   'VBP',\n",
       "   'VBZ',\n",
       "   'WDT',\n",
       "   'WP',\n",
       "   'WP$',\n",
       "   'WRB',\n",
       "   'XX',\n",
       "   '``'],\n",
       "  'parser': ['ROOT',\n",
       "   'acl',\n",
       "   'acomp',\n",
       "   'advcl',\n",
       "   'advmod',\n",
       "   'agent',\n",
       "   'amod',\n",
       "   'appos',\n",
       "   'attr',\n",
       "   'aux',\n",
       "   'auxpass',\n",
       "   'case',\n",
       "   'cc',\n",
       "   'ccomp',\n",
       "   'compound',\n",
       "   'conj',\n",
       "   'csubj',\n",
       "   'csubjpass',\n",
       "   'dative',\n",
       "   'dep',\n",
       "   'det',\n",
       "   'dobj',\n",
       "   'expl',\n",
       "   'intj',\n",
       "   'mark',\n",
       "   'meta',\n",
       "   'neg',\n",
       "   'nmod',\n",
       "   'npadvmod',\n",
       "   'nsubj',\n",
       "   'nsubjpass',\n",
       "   'nummod',\n",
       "   'oprd',\n",
       "   'parataxis',\n",
       "   'pcomp',\n",
       "   'pobj',\n",
       "   'poss',\n",
       "   'preconj',\n",
       "   'predet',\n",
       "   'prep',\n",
       "   'prt',\n",
       "   'punct',\n",
       "   'quantmod',\n",
       "   'relcl',\n",
       "   'xcomp'],\n",
       "  'senter': ['I', 'S'],\n",
       "  'attribute_ruler': [],\n",
       "  'lemmatizer': [],\n",
       "  'ner': ['CARDINAL',\n",
       "   'DATE',\n",
       "   'EVENT',\n",
       "   'FAC',\n",
       "   'GPE',\n",
       "   'LANGUAGE',\n",
       "   'LAW',\n",
       "   'LOC',\n",
       "   'MONEY',\n",
       "   'NORP',\n",
       "   'ORDINAL',\n",
       "   'ORG',\n",
       "   'PERCENT',\n",
       "   'PERSON',\n",
       "   'PRODUCT',\n",
       "   'QUANTITY',\n",
       "   'TIME',\n",
       "   'WORK_OF_ART']},\n",
       " 'pipeline': ['tok2vec',\n",
       "  'tagger',\n",
       "  'parser',\n",
       "  'attribute_ruler',\n",
       "  'lemmatizer',\n",
       "  'ner'],\n",
       " 'components': ['tok2vec',\n",
       "  'tagger',\n",
       "  'parser',\n",
       "  'senter',\n",
       "  'attribute_ruler',\n",
       "  'lemmatizer',\n",
       "  'ner'],\n",
       " 'disabled': ['senter'],\n",
       " 'sources': [{'name': 'OntoNotes 5',\n",
       "   'url': 'https://catalog.ldc.upenn.edu/LDC2013T19',\n",
       "   'license': 'commercial (licensed by Explosion)',\n",
       "   'author': 'Ralph Weischedel, Martha Palmer, Mitchell Marcus, Eduard Hovy, Sameer Pradhan, Lance Ramshaw, Nianwen Xue, Ann Taylor, Jeff Kaufman, Michelle Franchini, Mohammed El-Bachouti, Robert Belvin, Ann Houston'},\n",
       "  {'name': 'ClearNLP Constituent-to-Dependency Conversion',\n",
       "   'url': 'https://github.com/clir/clearnlp-guidelines/blob/master/md/components/dependency_conversion.md',\n",
       "   'license': 'Citation provided for reference, no code packaged with model',\n",
       "   'author': 'Emory University'},\n",
       "  {'name': 'WordNet 3.0',\n",
       "   'url': 'https://wordnet.princeton.edu/',\n",
       "   'author': 'Princeton University',\n",
       "   'license': 'WordNet 3.0 License'},\n",
       "  {'name': 'GloVe Common Crawl',\n",
       "   'url': 'https://nlp.stanford.edu/projects/glove/',\n",
       "   'license': 'Public Domain Dedication and License v1.0',\n",
       "   'author': 'Jeffrey Pennington, Richard Socher, and Christopher D. Manning'}],\n",
       " 'requirements': [],\n",
       " 'source': '/home/gosse/.local/lib/python3.8/site-packages/en_core_web_lg'}"
      ]
     },
     "execution_count": 14,
     "metadata": {},
     "output_type": "execute_result"
    }
   ],
   "source": [
    "spacy.info('en_core_web_lg')"
   ]
  },
  {
   "cell_type": "code",
   "execution_count": 20,
   "metadata": {},
   "outputs": [
    {
     "name": "stdout",
     "output_type": "stream",
     "text": [
      "{'award': 0.0010720687215706717, 'birthdate': 0.0021955275692360767, 'birthplace': 0.003109594411016382, 'composer': 0.0006949782125362799, 'director': 0.9918597789813286, 'other': 0.0004746037143408171, 'released': 0.000593448389970855}\n"
     ]
    }
   ],
   "source": [
    "question = nlp('Who directed Jaws?')\n",
    "print(question._.cats)"
   ]
  },
  {
   "cell_type": "code",
   "execution_count": 21,
   "metadata": {},
   "outputs": [
    {
     "name": "stdout",
     "output_type": "stream",
     "text": [
      "{'award': 0.006506048950995459, 'birthdate': 0.028593738016062194, 'birthplace': 0.008716237929607943, 'composer': 0.007102167012836441, 'director': 0.01329791333298159, 'other': 0.7137977230923639, 'released': 0.22198617166515272}\n"
     ]
    }
   ],
   "source": [
    "question = nlp('What is the date of death of John Wayne?')\n",
    "print(question._.cats)"
   ]
  },
  {
   "cell_type": "markdown",
   "metadata": {},
   "source": [
    "## Note\n",
    "\n",
    "To improve classification performance, add more examples and categories. I am not sure about which pre-trained models can be used exactly, the github mentions a few more but unclear what it would take to use one of the transformer-based sentence encoders. \n",
    "\n",
    "For simple questions, finding the relation and finding a named entity is enough to formulate a sparql query. \n",
    "\n",
    "The biggest challenge for the classifier is that for relations that are not in the training data, the system will nevertheless make a prediction. Is it possible to use a threshold, so that predictions that are below the threshold can be ignored? Alternatively, you could add an 'other' class consisting of various questions for which no relation can be readily provided or that have other issues. Also, you could add manual patterns (for complex questions, for other relantions) that take precendence over the automatic classification approach (and automatic relation classification would only be a fall-back).\n",
    "\n",
    "### Other \n",
    "\n",
    "Adding an other category makes the classification more robust. When adding 100 other questions, and testing on 2021 test questions, results are mostly correct. Mistakes are cases where other has been assigned incorrectly. \n",
    "\n"
   ]
  },
  {
   "cell_type": "code",
   "execution_count": 26,
   "metadata": {},
   "outputs": [
    {
     "name": "stdout",
     "output_type": "stream",
     "text": [
      "Who directed Tenet?\n",
      "[('director', 0.9941102385945935), ('birthplace', 0.0026385505470632336), ('award', 0.0011384164331722552), ('birthdate', 0.0009146537380075174), ('composer', 0.0006383975163335762), ('other', 0.0002974174094209785), ('released', 0.00026232576140891226)]\n",
      "Who directed Bad Times at the El Royale?\n",
      "[('director', 0.7922966416674118), ('other', 0.061186156817180516), ('released', 0.046022719983288427), ('award', 0.039062846561057005), ('birthdate', 0.036642203648794856), ('composer', 0.014597481895847825), ('birthplace', 0.010191949426419442)]\n",
      "Who wrote the music for Once Upon a Time in the West?\n",
      "[('other', 0.4984421603599385), ('composer', 0.23667994203525236), ('director', 0.13058888916222777), ('released', 0.07896414943664815), ('birthdate', 0.027359843509150057), ('award', 0.020591924427171074), ('birthplace', 0.007373091069611951)]\n",
      "Which streaming service is the distributor of Tiger King?\n",
      "[('other', 0.9697259149840318), ('released', 0.015018830999793684), ('composer', 0.006286251965499369), ('award', 0.0038171423092603525), ('director', 0.002563737220305558), ('birthdate', 0.0015781951220779496), ('birthplace', 0.0010099273990310238)]\n",
      "What is the country of origin of The Intouchables?\n",
      "[('other', 0.9763464689633943), ('released', 0.005942508279268468), ('composer', 0.0046538585183221485), ('birthdate', 0.004236087174218288), ('award', 0.0031602385156949226), ('director', 0.003038773548719766), ('birthplace', 0.002622065000382433)]\n",
      "When did John Hamilton die?\n",
      "[('other', 0.9454877914879009), ('birthdate', 0.02537724511089452), ('released', 0.011931027714120057), ('birthplace', 0.009675355166107798), ('award', 0.004166249102179806), ('director', 0.0020861943065646287), ('composer', 0.0012761371122322767)]\n",
      "Where did Alan Rickman die?\n",
      "[('other', 0.9414737100074997), ('birthplace', 0.025348116088014606), ('award', 0.013601328623635825), ('released', 0.006658325755828273), ('birthdate', 0.00602979455543495), ('director', 0.0052643487532216746), ('composer', 0.001624376216364764)]\n",
      "In which year was The Truman Show released?\n",
      "[('released', 0.914856843925028), ('award', 0.03554283190086435), ('other', 0.019278167898468326), ('birthdate', 0.01131615698632791), ('composer', 0.0066638267683115215), ('director', 0.006419028655395959), ('birthplace', 0.005923143865604227)]\n",
      "What is the box office ranking of the movie Inception?\n",
      "[('other', 0.8251642529110468), ('released', 0.08888952427795697), ('award', 0.03866629006323886), ('director', 0.03240732968158404), ('composer', 0.008749625715570804), ('birthdate', 0.003952520777060617), ('birthplace', 0.002170456573541755)]\n",
      "Inception was directed by whom?\n",
      "[('director', 0.9504999749304709), ('birthdate', 0.01265265278711984), ('birthplace', 0.011078856824986312), ('award', 0.008193561801147253), ('released', 0.006742041469614262), ('other', 0.006495685200132425), ('composer', 0.004337226986529054)]\n",
      "By whom was Jaws directed?\n",
      "[('director', 0.9591801572781765), ('birthdate', 0.013707591137621902), ('birthplace', 0.009066615344651035), ('released', 0.007556305384830048), ('other', 0.004314338352454439), ('award', 0.0035169017735506938), ('composer', 0.0026580907287152584)]\n",
      "What is Michael Cera's place of birth?\n",
      "[('other', 0.9527019629791688), ('birthplace', 0.016562431299703185), ('birthdate', 0.011670419712671945), ('released', 0.007372629442016841), ('director', 0.005110833005987421), ('award', 0.0035892638222670904), ('composer', 0.0029924597381852055)]\n",
      "Walt Disney Animation Studios was founded by whom?\n",
      "[('other', 0.9041879782630554), ('birthplace', 0.0295814419648027), ('birthdate', 0.02452450393997729), ('director', 0.015795604516646602), ('composer', 0.011686411686591723), ('released', 0.007591073360339053), ('award', 0.006632986268587703)]\n",
      "What is the catchphrase of the fictional character James Bond?\n",
      "[('other', 0.9896732590045904), ('award', 0.004147956107228435), ('birthplace', 0.0019794001495441185), ('composer', 0.0014848630499475844), ('released', 0.0013190039752611008), ('director', 0.0007488717347062607), ('birthdate', 0.0006466459787219388)]\n",
      "What is the main subject of Se7en?\n",
      "[('other', 0.9815152025337028), ('award', 0.008671325566393268), ('director', 0.003256993890546816), ('released', 0.003058384410265201), ('composer', 0.00203286459747675), ('birthplace', 0.0007933144639258525), ('birthdate', 0.0006719145376893076)]\n",
      "What are the genres of Fargo?\n",
      "[('other', 0.9795642820794715), ('award', 0.008086284955446662), ('composer', 0.004834828831869742), ('director', 0.003446712368212441), ('released', 0.0020811810761124498), ('birthdate', 0.001110087073349342), ('birthplace', 0.0008766236155379501)]\n",
      "Who are the directors of The Big Lebowski?\n",
      "[('director', 0.8116958748688533), ('other', 0.13891964776590804), ('award', 0.022840372239310038), ('composer', 0.010861802328575771), ('released', 0.00721405888714347), ('birthdate', 0.00589043829567073), ('birthplace', 0.002577805614538434)]\n",
      "Who are Christopher Nolan's children?\n",
      "[('other', 0.81210988661774), ('director', 0.10184263567062445), ('birthplace', 0.035812599917014895), ('birthdate', 0.028324309212872198), ('award', 0.008081365281429704), ('released', 0.007084691769101807), ('composer', 0.006744511531217077)]\n",
      "Which movies did Jan de Bont direct?\n",
      "[('other', 0.8360454292125276), ('director', 0.06831467846072106), ('birthdate', 0.030086807552317386), ('birthplace', 0.027191624362778197), ('released', 0.016032679475976218), ('award', 0.01584003156650236), ('composer', 0.006488749369177834)]\n",
      "What awards did Alan Rickman receive?\n",
      "[('award', 0.9492367171005353), ('other', 0.02086001912077398), ('birthplace', 0.009541540334095771), ('birthdate', 0.006569765588578709), ('director', 0.006082439041460008), ('composer', 0.004498384864309882), ('released', 0.0032111339502462993)]\n",
      "What are the occupations of John Hamilton?\n",
      "[('other', 0.9882599822515991), ('award', 0.0029801884180430224), ('birthplace', 0.0025329796458704256), ('birthdate', 0.002222865819710994), ('released', 0.0014299674198680326), ('composer', 0.0012982407244538998), ('director', 0.0012757757204540654)]\n",
      "Who wrote the scenario for Wall Street?\n",
      "[('other', 0.7975931760733306), ('director', 0.15953017687649237), ('composer', 0.020991475565611654), ('released', 0.00879378852005355), ('birthdate', 0.006634880867290477), ('award', 0.003693515347839553), ('birthplace', 0.002762986749381575)]\n",
      "Who are the directors of Shrek?\n",
      "[('director', 0.9713976029400203), ('award', 0.007834184724154283), ('other', 0.006188143914277717), ('birthdate', 0.005744349900124054), ('composer', 0.005141085919963856), ('birthplace', 0.00202370798192188), ('released', 0.0016709246195380158)]\n",
      "What are the main subjects of Inception?\n",
      "[('other', 0.9653558119557514), ('award', 0.016659049458428353), ('composer', 0.005320866806261625), ('director', 0.005027554817931246), ('released', 0.004308838130718525), ('birthdate', 0.0016908392552550436), ('birthplace', 0.001637039575654125)]\n",
      "Which countries is the movie O Brother Where Art Thou from?\n",
      "[('other', 0.9719537175586294), ('director', 0.007505184260910079), ('birthdate', 0.005680303968455469), ('birthplace', 0.004815117994909722), ('released', 0.003605783660623691), ('composer', 0.003240194941693416), ('award', 0.003199697614778272)]\n",
      "What gender is Elliot Page?\n",
      "[('other', 0.9913192598337318), ('birthplace', 0.0037331359233832976), ('award', 0.0013870718150982562), ('birthdate', 0.0011915581245154037), ('released', 0.0010028339872654463), ('director', 0.0007820495359465282), ('composer', 0.0005840907800591172)]\n",
      "Name the children of Will Smith.\n",
      "[('other', 0.9331967273775392), ('released', 0.02462263775223052), ('birthdate', 0.012480323040936103), ('director', 0.010541093321794722), ('award', 0.007330944847018049), ('composer', 0.00598709736320607), ('birthplace', 0.005841176297275282)]\n",
      "How many episodes does The Queen's Gambit have?\n",
      "[('other', 0.9682731329207264), ('award', 0.016686585844364717), ('director', 0.004479149832962652), ('released', 0.004414013999968976), ('composer', 0.0025986789466423002), ('birthdate', 0.0020636892928444276), ('birthplace', 0.001484749162490305)]\n",
      "How many children does Brad Pitt have?\n",
      "[('other', 0.969973195990861), ('award', 0.01221009808315654), ('birthdate', 0.005086413305511766), ('birthplace', 0.004847599060610158), ('director', 0.0038586314631078988), ('released', 0.0026075501593897216), ('composer', 0.001416511937363122)]\n",
      "What is the number of screenwriters of the animated adventure film Tarzan?\n",
      "[('other', 0.9080420008141206), ('director', 0.07105850666309782), ('composer', 0.006049349268359905), ('award', 0.005253824131628391), ('released', 0.00513458918683318), ('birthplace', 0.002358965891173204), ('birthdate', 0.002102764044786963)]\n",
      "How many awards has Marilyn Monroe received?\n",
      "[('award', 0.7864889173829143), ('other', 0.15315526120331943), ('director', 0.01799600632717218), ('composer', 0.01360217135694486), ('birthplace', 0.010196809383516168), ('birthdate', 0.009970896480024216), ('released', 0.008589937866109213)]\n",
      "How many episodes does Friends have?\n",
      "[('other', 0.9905742752484117), ('award', 0.004726238780686871), ('director', 0.0012465810875676442), ('birthdate', 0.0011508881603003048), ('composer', 0.0008568693998665058), ('released', 0.0008059309044479362), ('birthplace', 0.0006392164187189105)]\n",
      "Who plays the Joker in the movie Joker?\n",
      "[('other', 0.9441620313616171), ('director', 0.030217841956889663), ('award', 0.011942300123269354), ('composer', 0.005997213917956918), ('released', 0.004785751880856195), ('birthdate', 0.0016435274466895015), ('birthplace', 0.0012513333127215456)]\n",
      "Who plays The Dude in The Big Lebowski?\n",
      "[('other', 0.9652189888510037), ('award', 0.012507016580429634), ('composer', 0.00803913938292931), ('director', 0.006651150652792025), ('released', 0.0037231447402375456), ('birthdate', 0.002506868493456902), ('birthplace', 0.0013536912991507725)]\n",
      "When was Evan Almighty released in Germany?\n",
      "[('released', 0.8346887874265252), ('birthdate', 0.08172846571418688), ('other', 0.03708188163378437), ('birthplace', 0.01997638357655057), ('award', 0.011335651838379231), ('composer', 0.00784177883116572), ('director', 0.0073470509794082706)]\n",
      "When did the TV-series Doctor Who first start?\n",
      "[('other', 0.8101838654313521), ('director', 0.13062343688080716), ('award', 0.022314839535059312), ('released', 0.014582632359876746), ('birthdate', 0.013523779590622557), ('composer', 0.0065845201194989844), ('birthplace', 0.002186926082782782)]\n",
      "What character does Cobie Smulders play in How I Met Your Mother?\n",
      "[('other', 0.9512078768604084), ('birthdate', 0.01254576401311901), ('award', 0.01183798690932461), ('birthplace', 0.011605393677118818), ('director', 0.005855197984343788), ('released', 0.0047439398740707255), ('composer', 0.0022038406816144943)]\n",
      "In what films did Anthony Hopkins play Hannibal Lecter?\n",
      "[('other', 0.9331527220928202), ('birthplace', 0.024063099443132587), ('award', 0.01904170327375257), ('released', 0.0077930000625743194), ('director', 0.006766813436301199), ('birthdate', 0.00589503627102238), ('composer', 0.0032876254203971556)]\n",
      "Who won the Oscar for best director in 2020?\n",
      "[('award', 0.422369068265555), ('director', 0.34876105387806094), ('other', 0.11488592192023031), ('birthdate', 0.04455840411559454), ('composer', 0.028746481154197152), ('released', 0.022032846920750523), ('birthplace', 0.018646223745611763)]\n",
      "Is The Dawn Wall a documentary film?\n",
      "[('other', 0.9293930544756269), ('composer', 0.02542023324596056), ('director', 0.018234149289206747), ('released', 0.015767701847998254), ('birthplace', 0.005384779816467653), ('birthdate', 0.0030960735002758194), ('award', 0.0027040078244641866)]\n",
      "Is Jeff Bridges a cast member of The Wolf of Wall Street?\n",
      "[('other', 0.9831332430125794), ('composer', 0.0066998968918291395), ('released', 0.003061840621651824), ('director', 0.002398438392300982), ('birthplace', 0.0016166678052874507), ('award', 0.0015947218226319906), ('birthdate', 0.0014951914537196806)]\n",
      "Did George Clooney win the BAFTA Award for Best Film?\n",
      "[('award', 0.8883353591486742), ('other', 0.06956686375532904), ('director', 0.013622576103716564), ('birthplace', 0.010862323048166317), ('birthdate', 0.00843524928688468), ('composer', 0.006088943408749771), ('released', 0.0030886852484795784)]\n",
      "Is Shrek a fantasy film?\n",
      "[('other', 0.9803785292974495), ('composer', 0.007193639643230497), ('director', 0.006968473185161034), ('birthplace', 0.002154628831133053), ('released', 0.001413563181779521), ('award', 0.0009776733250017311), ('birthdate', 0.0009134925362447283)]\n",
      "Does Eddard Stark have children?\n",
      "[('other', 0.9729037790675685), ('birthplace', 0.008350294395106584), ('birthdate', 0.0053319720987802365), ('award', 0.004597167997390285), ('director', 0.004025292713205477), ('released', 0.0026342620615256666), ('composer', 0.002157231666423406)]\n",
      "Is Finn Collins female?\n",
      "[('other', 0.9688506098914839), ('birthplace', 0.010304492336956543), ('birthdate', 0.009796779201765499), ('director', 0.0036091641195876547), ('released', 0.0033538570074066994), ('composer', 0.0020816829523801136), ('award', 0.0020034144904197905)]\n",
      "Who is Jeff Bridges?\n",
      "[('other', 0.9806147326408384), ('birthplace', 0.007357698307301803), ('birthdate', 0.003751318548629997), ('composer', 0.0029451775717099756), ('director', 0.0020317330556036237), ('award', 0.0020129929290671838), ('released', 0.0012863469468485588)]\n",
      "What is the date of birth of the son of Denzel Washington?\n",
      "[('other', 0.6453128116207255), ('birthdate', 0.1443912819397205), ('released', 0.13319230773205382), ('director', 0.03788810290357982), ('birthplace', 0.015525462119777433), ('award', 0.013004503312954857), ('composer', 0.010685530371188405)]\n",
      "What is an aerial shot?\n",
      "[('other', 0.9937557830760902), ('director', 0.001773368031936394), ('award', 0.0014866538728528697), ('birthplace', 0.0009507453797233665), ('composer', 0.0007309528186327046), ('released', 0.0006748267914818877), ('birthdate', 0.0006276700292823322)]\n",
      "When was the actor Joaquin Phoenix born?\n",
      "[('birthdate', 0.6833565794062987), ('other', 0.15424267771394495), ('birthplace', 0.0626823807159599), ('director', 0.04115627905224856), ('released', 0.025604361708461743), ('award', 0.019144932357203378), ('composer', 0.013812789045882994)]\n",
      "What is the length of Speed?\n",
      "[('other', 0.995542049644885), ('composer', 0.001430787727060412), ('released', 0.0011671776637475148), ('award', 0.0005987863276819661), ('birthdate', 0.0005207728375294196), ('director', 0.00040611067966389054), ('birthplace', 0.00033431511943158323)]\n"
     ]
    }
   ],
   "source": [
    "\n",
    "with open('test_all1.csv') as questions :\n",
    "    for line in questions:\n",
    "        (id, question) = line.strip().split('\\t')\n",
    "        doc = nlp(question)\n",
    "        for sent in doc.sents :\n",
    "            print(sent.text)\n",
    "        # sort predications by score, highest scoring first\n",
    "        categories = sorted(doc._.cats.items(), key=lambda x:x[1], reverse=1)\n",
    "        print(categories)"
   ]
  },
  {
   "cell_type": "code",
   "execution_count": null,
   "metadata": {},
   "outputs": [],
   "source": []
  }
 ],
 "metadata": {
  "kernelspec": {
   "display_name": "Python 3",
   "language": "python",
   "name": "python3"
  },
  "language_info": {
   "codemirror_mode": {
    "name": "ipython",
    "version": 3
   },
   "file_extension": ".py",
   "mimetype": "text/x-python",
   "name": "python",
   "nbconvert_exporter": "python",
   "pygments_lexer": "ipython3",
   "version": "3.8.10"
  }
 },
 "nbformat": 4,
 "nbformat_minor": 4
}
